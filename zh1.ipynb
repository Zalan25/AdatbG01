{
    "metadata": {
        "kernelspec": {
            "name": "SQL",
            "display_name": "SQL",
            "language": "sql"
        },
        "language_info": {
            "name": "sql",
            "version": ""
        }
    },
    "nbformat_minor": 2,
    "nbformat": 4,
    "cells": [
        {
            "cell_type": "code",
            "source": [
                "select COUNT(v.SZUL_DAT ) \r\n",
                "from vendeg v JOIN Foglalas f ON  v.USERNEV=f.UGYFEL_FK\r\n",
                "where f.FELNOTT_SZAM > 4 \r\n",
                "\r\n",
                "\r\n",
                ""
            ],
            "metadata": {
                "azdata_cell_guid": "8d164373-c82d-4459-99e8-1b14684f1e30",
                "language": "sql"
            },
            "outputs": [
                {
                    "output_type": "display_data",
                    "data": {
                        "text/html": "(0 rows affected)"
                    },
                    "metadata": {}
                },
                {
                    "output_type": "display_data",
                    "data": {
                        "text/html": "Total execution time: 00:00:00.009"
                    },
                    "metadata": {}
                },
                {
                    "output_type": "execute_result",
                    "metadata": {},
                    "execution_count": 2,
                    "data": {
                        "application/vnd.dataresource+json": {
                            "schema": {
                                "fields": [
                                    {
                                        "name": "(No column name)"
                                    }
                                ]
                            },
                            "data": []
                        },
                        "text/html": [
                            "<table>",
                            "<tr><th>(No column name)</th></tr>",
                            "</table>"
                        ]
                    }
                }
            ],
            "execution_count": 2
        },
        {
            "cell_type": "code",
            "source": [
                "select szo.SZOBA_ID;\r\n",
                "        f.mettol;\r\n",
                "        \r\n",
                "from szallashely sza JOIN Szoba szo ON  szo.SZALLAS_FK=sza.SZALLAS_ID\r\n",
                "        foglalas f JOIN szoba szo ON szo.SZOBA_ID=f.SZOBA_ID\r\n",
                ""
            ],
            "metadata": {
                "azdata_cell_guid": "6640d792-d928-40cf-b302-556eb961b80d",
                "language": "sql"
            },
            "outputs": [],
            "execution_count": null
        }
    ]
}