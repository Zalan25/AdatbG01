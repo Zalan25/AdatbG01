{
    "metadata": {
        "kernelspec": {
            "name": "SQL",
            "display_name": "SQL",
            "language": "sql"
        },
        "language_info": {
            "name": "sql",
            "version": ""
        }
    },
    "nbformat_minor": 2,
    "nbformat": 4,
    "cells": [
        {
            "cell_type": "code",
            "source": [
                "--1. Null érték keresése, aránya\r\n",
                "SELECT \r\n",
                "    COUNT(*) AS 'összes_sor',\r\n",
                "    SUM(CASE WHEN LISTAAR IS NULL THEN 1 ELSE 0 END) AS 'null_LISTAAR',\r\n",
                "    ROUND(SUM(CASE WHEN LISTAAR IS NULL THEN 1 ELSE 0 END) * 100.0 / COUNT(*), 2) AS 'null_LISTAAR_szazalek',\r\n",
                "    SUM(CASE WHEN LEIRAS IS NULL THEN 1 ELSE 0 END) AS 'null_LEIRAS',\r\n",
                "    ROUND(SUM(CASE WHEN LEIRAS IS NULL THEN 1 ELSE 0 END) * 100.0 / COUNT(*), 2) AS 'null_LEIRAS_szazalek',\r\n",
                "    SUM(CASE WHEN KESZLET IS NULL THEN 1 ELSE 0 END) AS 'null_FELVITEL',\r\n",
                "    ROUND(SUM(CASE WHEN KESZLET IS NULL THEN 1 ELSE 0 END) * 100.0 / COUNT(*), 2) AS 'null_FELVITEL_szazalek'\r\n",
                "FROM TERMEK;\r\n",
                "\r\n",
                "\r\n",
                "\r\n",
                "\r\n",
                ""
            ],
            "metadata": {
                "azdata_cell_guid": "8b7dfeb0-35f9-4e0e-88df-5004b25c2200",
                "language": "sql"
            },
            "outputs": [
                {
                    "output_type": "display_data",
                    "data": {
                        "text/html": "(1 row affected)"
                    },
                    "metadata": {}
                },
                {
                    "output_type": "display_data",
                    "data": {
                        "text/html": "Total execution time: 00:00:00.196"
                    },
                    "metadata": {}
                },
                {
                    "output_type": "execute_result",
                    "execution_count": 7,
                    "data": {
                        "application/vnd.dataresource+json": {
                            "schema": {
                                "fields": [
                                    {
                                        "name": "összes_sor"
                                    },
                                    {
                                        "name": "null_LISTAAR"
                                    },
                                    {
                                        "name": "null_LISTAAR_szazalek"
                                    },
                                    {
                                        "name": "null_LEIRAS"
                                    },
                                    {
                                        "name": "null_LEIRAS_szazalek"
                                    },
                                    {
                                        "name": "null_FELVITEL"
                                    },
                                    {
                                        "name": "null_FELVITEL_szazalek"
                                    }
                                ]
                            },
                            "data": [
                                {
                                    "összes_sor": "551",
                                    "null_LISTAAR": "0",
                                    "null_LISTAAR_szazalek": "0.000000000000",
                                    "null_LEIRAS": "527",
                                    "null_LEIRAS_szazalek": "95.640000000000",
                                    "null_FELVITEL": "0",
                                    "null_FELVITEL_szazalek": "0.000000000000"
                                }
                            ]
                        },
                        "text/html": "<table><tr><th>összes_sor</th><th>null_LISTAAR</th><th>null_LISTAAR_szazalek</th><th>null_LEIRAS</th><th>null_LEIRAS_szazalek</th><th>null_FELVITEL</th><th>null_FELVITEL_szazalek</th></tr><tr><td>551</td><td>0</td><td>0.000000000000</td><td>527</td><td>95.640000000000</td><td>0</td><td>0.000000000000</td></tr></table>"
                    },
                    "metadata": {}
                }
            ],
            "execution_count": 7
        },
        {
            "cell_type": "code",
            "source": [
                "-- 2. Minimum, maximum, átlag\r\n",
                "SELECT \r\n",
                "    MIN(LISTAAR) AS 'min_LISTAAR',\r\n",
                "    MAX(LISTAAR) AS 'max_LISTAAR',\r\n",
                "    AVG(LISTAAR) AS 'avg_LISTAAR',\r\n",
                "    MIN(KESZLET) AS 'min_KESZLET',\r\n",
                "    MAX(KESZLET) AS 'max_KESZLET',\r\n",
                "    AVG(KESZLET) AS 'avg_KESZLET',\r\n",
                "    MIN(FELVITEL) AS 'elso_datum',\r\n",
                "    MAX(FELVITEL) AS 'utolso_datum'\r\n",
                "FROM TERMEK;\r\n",
                ""
            ],
            "metadata": {
                "azdata_cell_guid": "05203003-9794-4e92-9424-e1eeb69a382d",
                "language": "sql"
            },
            "outputs": [],
            "execution_count": null
        },
        {
            "cell_type": "code",
            "source": [
                "-- 3. Értékek eloszlása \r\n",
                "SELECT \r\n",
                "    ROUND(LISTAAR, -2) AS 'Értékek',\r\n",
                "    COUNT(*) AS 'db'\r\n",
                "FROM TERMEK\r\n",
                "GROUP BY ROUND(LISTAAR, -2)\r\n",
                "ORDER BY 'Értékek';\r\n",
                "\r\n",
                ""
            ],
            "metadata": {
                "azdata_cell_guid": "dcfb2d26-53e0-413e-8f89-3da15d583e5a",
                "language": "sql"
            },
            "outputs": [],
            "execution_count": null
        },
        {
            "cell_type": "markdown",
            "source": [
                "![](data:image/png;base64,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)"
            ],
            "metadata": {
                "language": "sql",
                "azdata_cell_guid": "6e89ef46-e5ab-4898-a178-af80693c0e37"
            },
            "attachments": {}
        }
    ]
}